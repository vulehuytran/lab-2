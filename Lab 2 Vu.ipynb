{
 "cells": [
  {
   "cell_type": "code",
   "execution_count": 1,
   "metadata": {},
   "outputs": [],
   "source": [
    "from Bio import SeqIO\n",
    "from Bio.SeqRecord import SeqRecord\n",
    "from Bio.Seq import Seq"
   ]
  },
  {
   "cell_type": "markdown",
   "metadata": {},
   "source": [
    "### Generating a phylogenic tree:"
   ]
  },
  {
   "cell_type": "code",
   "execution_count": 2,
   "metadata": {},
   "outputs": [],
   "source": [
    "from Bio import Phylo"
   ]
  },
  {
   "cell_type": "code",
   "execution_count": 3,
   "metadata": {},
   "outputs": [],
   "source": [
    "tree = Phylo.read(\"tree.nwk\", \"newick\")"
   ]
  },
  {
   "cell_type": "code",
   "execution_count": 4,
   "metadata": {},
   "outputs": [
    {
     "data": {
      "text/plain": [
       "<Figure size 640x480 with 1 Axes>"
      ]
     },
     "metadata": {},
     "output_type": "display_data"
    }
   ],
   "source": [
    "Phylo.draw(tree)"
   ]
  },
  {
   "cell_type": "code",
   "execution_count": 5,
   "metadata": {},
   "outputs": [
    {
     "name": "stdout",
     "output_type": "stream",
     "text": [
      " , rh.61\n",
      " |\n",
      " |_ rh.58\n",
      " |\n",
      " |                               , pi.2\n",
      " |           ____________________|\n",
      " |          |                    , pi.3\n",
      " |          |                    |\n",
      " |          |                    | pi.1\n",
      " |          |\n",
      " |          |           , rh.10\n",
      " |        __|          _|\n",
      " |       |  |         | , bb.1\n",
      " |       |  |         | |\n",
      " |       |  |  _______| | bb.2\n",
      " |       |  | |       |\n",
      " |       |  | |       | _ hu.17\n",
      " |       |  | |       ||\n",
      " |       |  |_|        | hu.6\n",
      " |       |    |\n",
      " |       |    |    _______ rh.2\n",
      " |       |    |   |\n",
      " |       |    |___|          __ rh.40\n",
      " |       |        |         |\n",
      " |       |        |_________|, hu.67\n",
      " |       |                  ||\n",
      " |       |                  |, hu.37\n",
      " |       |                   |\n",
      " |       |                   , hu.40\n",
      " |       |                   |\n",
      " |       |                   | hu.66\n",
      " |       |                   |\n",
      " |       |                   , hu.41\n",
      " |       |                   |\n",
      " |       |                   | rh.38\n",
      " |       |                   |\n",
      " |       |                   | hu.42\n",
      " |       |\n",
      " |_______|                                         , cy.3\n",
      " |       |                                         |\n",
      " |       |                          _______________, cy.6\n",
      " |       |                         |               |\n",
      " |       |                         |               | cy.4\n",
      " |       |                         |               |\n",
      " |       |                 ________|               , cy.5\n",
      " |       |                |        |               |\n",
      " |       |                |        |               | rh.13\n",
      " |       |                |        |\n",
      " |       |                |        |        , rh.35\n",
      " |       |             ___|        |________|\n",
      " |       |            |   |                 , rh.36\n",
      " |       |            |   |                 |\n",
      " |       |            |   |                 | rh.37\n",
      " |       |            |   |\n",
      " |       |            |   |         ______ cy.2\n",
      " |       |            |   |________|\n",
      " |       |            |            |     __ rh.54\n",
      " |       |    ________|            |____|\n",
      " |       |   |        |                 |      __ rh.55\n",
      " |       |   |        |                 |_____|\n",
      " |       |   |        |                       |, rh.48\n",
      " |       |   |        |                       ||\n",
      " |       |   |        |                        | rh.62\n",
      " |       |   |        |\n",
      " |       |   |        |                               __ hu.43\n",
      " |       |   |        |______________________________|\n",
      " |       |___|                                       |  , hu.48\n",
      " |           |                                       |__|\n",
      " |           |                                          |      , hu.44\n",
      " |           |                                          |______|\n",
      " |           |                                                 | hu.46\n",
      " |           |\n",
      " |           |                                                    _ hu.14\n",
      " |           |      _____________________________________________|\n",
      " |           |     |                                             |  , hu.31\n",
      " |           |_____|                                             |__|\n",
      " |                 |                                                | hu.32\n",
      " |                 |\n",
      " |                 |______________ rh.43\n",
      "_|\n",
      " | rh.64\n",
      " |\n",
      " , rh.57\n",
      " |\n",
      " | rh.51\n",
      " |\n",
      " | rh.49\n",
      " |\n",
      " | rh.53\n",
      " |\n",
      " | rh.50\n",
      " |\n",
      " , rh.52\n",
      " |\n",
      " | hu.39\n",
      "\n"
     ]
    }
   ],
   "source": [
    "Phylo.draw_ascii(tree, file = None, column_width = 80)"
   ]
  },
  {
   "cell_type": "markdown",
   "metadata": {},
   "source": [
    "### Identify sequences by BLAST:"
   ]
  },
  {
   "cell_type": "code",
   "execution_count": 6,
   "metadata": {},
   "outputs": [],
   "source": [
    "record = SeqIO.to_dict(SeqIO.parse(\"seqs.fa\", \"fasta\"))"
   ]
  },
  {
   "cell_type": "code",
   "execution_count": 7,
   "metadata": {},
   "outputs": [
    {
     "name": "stdout",
     "output_type": "stream",
     "text": [
      "cy.3\n",
      "atggctgccgatggttatcttccagattggctcgaggacaacctctctgagggcattcgcgagtggtgggacttgaaacctggagccccgaaacccaaagccaaccagcaaaagcaggacgacggccggggtctggtgcttcctggctacaagtacctcagacccttcaacggactcgacaagggagagccggtcaacgaggcagacgccgcggccctcgagcacgacaaggcctacgacaagcagctcgagcagggggacaacccgtacctcaagtacaaccacgccgacgccgagtttcaggagcgtcttcaagaagatacgtcttttgggggcaacctcgggcgagcagtcttccaggccaagaagcgggttctcgaacctctcggtctggttgaggaagtcgctaagacggctcctggaaagaagagacccatagaatcccccgactcctccacgggcatcggcaagaaaggccagcagcccgctaaaaagaagctcaactttgggcagactggcgactcagagtcagtgcccgacccccaacctctcggagaacctcccgccgcgccctcaggtctgggatctggtacaatggctgcaggcggtggcgcaccaatggcagacaataacgaaggcgccgacggagtgggtaatgcctccggaaattggcattgcgattccacatggctgggcgacagagtcatcaccaccagcacccgcacctgggccctgcccacctacaacaaccacctctacaagcagatatcaagtcagagcggggctaccaacgacaaccacttcttcagctacagcaccccctggggctattttgacttcaacagattccactgccacttctcaccacgtgactggcagcgactcatcaacaacaactggggattccggcccagaaagctgcggttcaagttgttcaacatccaggtcaaggaggtcacgacgaacgacggcgttacgaccatcgctaataaccttaccagcacgattcaggtcttctcggactcggagtaccaactgccgtacgtcctcggctctgcgcaccagggctgcctccctccgttccctgcggacgtgttcatgattcctcagtacggatatctgactctaaacaacggcagtcagtctgtgggacgttcctccttctactgcctggagtactttccttctcagatgctgagaacgggcaataactttgaattcagctacacctttgaggaagtgcctttccacagcagctatgtgcacagccagagcctagaccggctgatgaatcccctcatcgaccagtacctgtactacctggcccggacccagagcactacggggtccacaagggagctgcagttccatcaggctgggcccaacaccatggccgagcaatcaaagaactggctgcccggaccctgttatcggcagcagagactgtcaaaaaacatagacagcaacaacaacagtaactttgcctggaccggggccactaaataccatctgaatggtagaaattcattaaccaacccgggcgtagccatggccaccaacaaggacgacgaggaccagttctttcccatcaacggagtgctggtttttggcaaaacgggggctgccaacaagacaacgctggaaaacgtgctaatgaccagcgaggaggagatcaaaaccaccaatcccgtggctacagaagaatacggtgtggtctccagcaacctgcaatcgtctacggccggaccccagacacagactgtcaacagccagggggctctgcccggcatggtctggcagaaccgggacgtgtgcctgcagggtcccatctgggccaaaattcctcacacggacggcaactttcacccgtctcccctgatgggcggatttggactcaaacacccgcctcctcaaattctcatcaaaaacaccccggtacctgctaatcctccagaggtgtttactcctgccaagtttgcctcatttatcacgcagtacagcaccggccaggtcagcgtggagatcgagtgggaactgcagaaagaaaacagcaaacgctggaatccagagattcagtacacctcaaattatgccaagtctaataatgtggaatttgctgtcaacaacgaaggggtttatactgagcctcgccccattggcacccgttacctcacccgtaacctgtaa\n",
      "\n"
     ]
    }
   ],
   "source": [
    "print(record[\"cy.3\"].id)\n",
    "print(record[\"cy.3\"].seq)\n",
    "print(\"\")"
   ]
  },
  {
   "cell_type": "code",
   "execution_count": 9,
   "metadata": {},
   "outputs": [
    {
     "name": "stdout",
     "output_type": "stream",
     "text": [
      "pi.2\n",
      "atggctgctgacggttatcttccagattggctcgaggacaacctctctgagggcattcgcgagtggtgggcgctgaaacctggagccccgcaacccaaagccaaccagcaaaagcaggacgacggccggggtctggtgcttcctggctacaagtacctcggacccttcaacggactcgacaagggggagcccgtcaacgaggcggacgccgcggccctcgagcacgacaaggcctacgaccagcagctcaaagcgggtgacaatccgtacctgcggtataatcacgccgacgccgagtttcaagagcgtctgcaagaagatacgtcctttgggggcaacctcgggcgagcagtcttccaggccaaaaagagggtactcgagcctctgggtctggttgaggaaggcgctaagacggctcctggaaagaagcggccagtagaaccggactccagctcgggcatcggcaagtcaggccggcagcccgcgaaaaagagactgaattttgggcagactggcgactcagagtcagtgcctgacccccaacctctctcagaaccacccgcaggtccctctggtctgggatctggtacaatggctgcaggcggtggcgctccaatggcagacaataacgaaggcgccgacggagtgggtaatgcctcaggaaattggcattgcgattccacatggctgggcgaccgagtcatcaccaccagcactcggacctgggccctccccacctacaacaaccacctctacaagcaaatctccaacgggacctcgggaggcagcagcaacgacaacacctactttggctacagcaccccctgggggtattttgactttaacagattccactgccacttttcaccacgtgactggcagcgactcatcaacaacaactggggattccggcccaagaggctcaacttcaagctcttcaacatccaggtcaaggaggtcacccagaatgaaggcaccaagaccatcgccaataacctcaccagcacggtgcaggtctttacggactcgaagtaccagctcccgtacgtgctcggctctgcccaccagggctgcctgcctccgttcccggcggacgtgttcatgattccgcagtacgggtacctgacgctgaacaacgggagccaggccgtggggcgatcctccttctactgcctggagtactttccctcgcagatgctgagaacgggcaacaactttaccttcagctacaccttcgaggacgtgcccttccacagcagctacgcgcacagccagagcctggaccggctgatgaacccgctgattgaccagtacctgtactacctgtctcggactcagaccaacgggaccaatgccacgcagactctgttgtttgctcaggccgggcctcagaacatgtcggctcaggccaagaactggctgcctggtccttgctatcggcagcagcgcgtctctacgacagtgtcgcaaaacaacaacagcaactttacctggaccggggcgaccaagtaccacctgaacggccgagactccctggtgaaccccggtgtcgccatggcaacgcacaaggacgacgaggagcgcttcttcccgagcagcggggtcctgatgtttggcaagcagggcgctggaaaggacaatgtcgagtacaccaacgtgatgctcaccagcgaggaggagatcaagaccaccaaccctgtggccacggagcagtacggtgtggtggctgacaatctgcagcagaccaactcggctcccattgtgggggcagtcaacagccagggggccttacccggtatggtctggcagaaccgggacgtgtacctgcagggtcccatctgggccaagatcccgcatacggacggcaactttcacccgtctcctctcatgggcggctttggactgaaacacccgcctccccagatcctgatcaaaaacacgccggtacctgcggatcccccggtgaactttacggacgctaagctggcgagtttcatcacgcagtacagcaccgggcaggtcagcgtggagattgagtgggagctgcagaaggagaacagcaagcgctggaatcccgagattcagtacacttccaattattataaatcagctaatgtggactttgccgtcaatgcagatggtgtatatagtgaaccccgccccattggcactcgttacctcacccgtaatctgtaa\n",
      "\n"
     ]
    }
   ],
   "source": [
    "print(record[\"pi.2\"].id)\n",
    "print(record[\"pi.2\"].seq)\n",
    "print(\"\")"
   ]
  },
  {
   "cell_type": "code",
   "execution_count": 10,
   "metadata": {},
   "outputs": [
    {
     "name": "stdout",
     "output_type": "stream",
     "text": [
      "rh.10\n",
      "atggctgccgatggttatcttccagattggctcgaggacaacctctctgagggcattcgcgagtggtgggacttgaaacctggagccccgaaacccaaagccaaccagcaaaagcaggacgacggccggggtctggtgcttcctggctacaagtacctcggacccttcaacggactcgacaagggggagcccgtcaacgcggcggacgcagcggccctcgagcacgacaaggcctacgaccagcagctcaaagcgggtgacaatccgtacctgcggtataaccacgccgacgccgagtttcaggagcgtctgcaagaagatacgtcttttgggggcaacctcgggcgagcagtcttccaggccaagaagcgggttctcgaacctctcggtctggttgaggaaggcgctaagacggctcctggaaagaagagaccggtagagccatcaccccagcgttctccagactcctctacgggcatcggcaagaaaggccagcagcccgcgaaaaagagactcaactttgggcagactggcgactcagagtcagtgcccgaccctcaaccaatcggagaaccccccgcaggcccctctggtctgggatctggtacaatggctgcaggcggtggcgctccaatggcagacaataacgaaggcgccgacggagtgggtagttcctcaggaaattggcattgcgattccacatggctgggcgacagagtcatcaccaccagcacccgaacctgggccctccccacctacaacaaccacctctacaagcaaatctccaacgggacttcgggaggaagcaccaacgacaacacctacttcggctacagcaccccctgggggtattttgactttaacagattccactgccacttctcaccacgtgactggcagcgactcatcaacaacaactggggattccggcccaagagactcaacttcaagctcttcaacatccaggtcaaggaggtcacgcagaatgaaggcaccaagaccatcgccaataaccttaccagcacgattcaggtctttacggactcggaataccagctcccgtacgtcctcggctctgcgcaccagggctgcctgcctccgttcccggcggacgtcttcatgattcctcagtacgggtacctgactctgaacaatggcagtcaggccgtgggccgttcctccttctactgcctggagtactttccttctcaaatgctgagaacgggcaacaactttgagttcagctaccagtttgaggacgtgccttttcacagcagctacgcgcacagccaaagcctggaccggctgatgaaccccctcatcgaccagtacctgtactacctgtctcggactcagtccacgggaggtaccgcaggaactcagcagttgctattttctcaggccgggcctaataacatgtcggctcaggccaaaaactggctacccgggccctgctaccggcagcaacgcgtctccacgacactgtcgcaaaataacaacagcaactttgcctggaccggtgccaccaagtatcatctgaatggcagagactctctggtaaatcccggtgtcgctatggcaacccacaaggacgacgaagagcgattttttccgtccagcggagtcttaatgtttgggaaacagggagctggaaaagacaacgtggactatagcagcgttatgctaaccagtgaggaagaaattaaaaccaccaacccagtggccacagaacagtacggcgtggtggccgataacctgcaacagcaaaacgccgctcctattgtaggggccgtcaacagtcaaggagccttacctggcatggtctggcagaaccgggacgtgtacctgcagggtcctatctgggccaagattcctcacacggacggaaactttcatccctcgccgctgatgggaggctttggactgaaacacccgcctcctcagatcctgattaagaatacacctgttcccgcggatcctccaactaccttcagtcaagctaagctggcgtcgttcatcacgcagtacagcaccggacaggtcagcgtggaaattgaatgggagctgcagaaagaaaacagcaaacgctggaacccagagattcaatacacttccaactactacaaatctacaaatgtggactttgctgttaacacagatggcacttattctgagcctcgccccatcggcacccgttacctcacccgtaatctgtaa\n",
      "\n"
     ]
    }
   ],
   "source": [
    "print(record[\"rh.10\"].id)\n",
    "print(record[\"rh.10\"].seq)\n",
    "print(\"\")"
   ]
  },
  {
   "cell_type": "markdown",
   "metadata": {},
   "source": [
    "##### BLAST Results:\n",
    "I've selected 3 specimen from 3 clusters. \n",
    "cy.3 matches with Non-human primate Adeno-associated virus isolate AAVcy.3 capsid protein (VP1) gene.\n",
    "pi.2 matches with Adeno-associated virus isolate pi.2 capsid protein VP1 (cap) gene.\n",
    "rh.10 matches with Non-human primate Adeno-associated virus isolate AAVrh.10 capsid protein (VP1) gene.\n"
   ]
  },
  {
   "cell_type": "markdown",
   "metadata": {},
   "source": [
    "### Calculating sequences statistics for each cluster:"
   ]
  },
  {
   "cell_type": "code",
   "execution_count": 11,
   "metadata": {},
   "outputs": [
    {
     "name": "stdout",
     "output_type": "stream",
     "text": [
      "SingleLetterAlphabet() alignment with 48 rows and 2238 columns\n",
      "ATGGCTGCCGATGGTTATCTTCCAGATTGGCTCGAGGACACTCT...TAA hu.31\n",
      "ATGGCTGCCGATGGTTATCTTCCAGATTGGCTCGAGGACACTCT...TAA hu.32\n",
      "ATGGCTGCCGATGGTTATCTTCCAGATTGGCTCGAGGACAACCT...TAA hu.14\n",
      "ATGGCTGCCGATGGTTATCTTCCAGATTGGCTCGAGGACACTCT...TAA hu.44\n",
      "ATGGCTGCCGACGGTTATCTTCCAGATTGGCTCGAGGACACTCT...TAA hu.46\n",
      "ATGGCTGCTGACGGTTATCTTCCAGATTGGCTCGAGGACAACCT...TAA hu.43\n",
      "ATGGCTGCCGATGGTTATCTTCCAGATTGGCTCGAGGACAACCT...TAA hu.48\n",
      "ATGGCTGCTGACGGTTATCTTCCAGATTGGCTCGAGGACAACCT...TAA pi.3\n",
      "ATGGCTGCTGACGGTTATCTTCCAGATTGGCTCGAGGACAACCT...TAA pi.1\n",
      "ATGGCTGCTGACGGTTATCTTCCAGATTGGCTCGAGGACAACCT...TAA pi.2\n",
      "ATGGCTGCCGATGGTTATCTTCCAGATTGGCTCGAGGACAACCT...TAA rh.43\n",
      "ATGGCTGCTGACGGTTATCTTCCAGATTGGCTCGAGGACAACCT...TAA rh.58\n",
      "ATGGCTGCCGATGGTTATCTTCCAGATTGGCTCGAGGACAACCT...TAA rh.57\n",
      "ATGGCTGCCGATGGTTATCTTCCAGATTGGCTCGAGGACAACCT...TAA hu.39\n",
      "ATGGCTGCCGATGGTTATCTTCCAGATTGGCTCGAGGACAACCT...TAA rh.49\n",
      "ATGGTTGCCGATGGTTATCTTCCAGATTGGCTCGAGGACAACCT...TAA rh.51\n",
      "ATGGCTGCCGATGGTTATCTTCCAGATTGGCTCGAGGACAACCT...TAA rh.61\n",
      "ATGGCTGCCGATGGTTATCTTCCAGATTGGCTCGAGGACAACCT...TAA rh.52\n",
      "...\n",
      "ATGGCTGCCGATGGTTATCTTCCAGATTGGCTCGAGGACAACCT...TAA rh.13\n"
     ]
    }
   ],
   "source": [
    "from Bio import AlignIO\n",
    "align = AlignIO.read(\"seqs.aligned.fa\", \"fasta\")\n",
    "print(align)"
   ]
  },
  {
   "cell_type": "code",
   "execution_count": 12,
   "metadata": {},
   "outputs": [],
   "source": [
    "cluster_1 = ('cy.3', 'cy.6', 'cy.4', 'rh.13')\n",
    "cluster_2 = ('hu.14', 'hu.31', 'hu.32', 'rh.43')\n",
    "cluster_3 = ('hu.43', 'hu.48', 'hu.44', 'hu.46')\n",
    "cluster_4 = ('cy.2', 'rh.54', 'rh.55', 'rh.48')"
   ]
  },
  {
   "cell_type": "code",
   "execution_count": 13,
   "metadata": {},
   "outputs": [
    {
     "data": {
      "text/plain": [
       "'hu.31'"
      ]
     },
     "execution_count": 13,
     "metadata": {},
     "output_type": "execute_result"
    }
   ],
   "source": [
    "align[0].id"
   ]
  },
  {
   "cell_type": "code",
   "execution_count": 16,
   "metadata": {},
   "outputs": [],
   "source": [
    "def print_sequence(name_specimen):\n",
    "    blank=\"\"\n",
    "    for rec in align:\n",
    "        if rec.id==name_specimen:\n",
    "            blank=rec.seq\n",
    "    return blank"
   ]
  },
  {
   "cell_type": "code",
   "execution_count": 17,
   "metadata": {},
   "outputs": [
    {
     "data": {
      "text/plain": [
       "Seq('ATGGCTGCCGATGGTTATCTTCCAGATTGGCTCGAGGACAACCTCTCTGAGGGC...TAA', SingleLetterAlphabet())"
      ]
     },
     "execution_count": 17,
     "metadata": {},
     "output_type": "execute_result"
    }
   ],
   "source": [
    "print_sequence('cy.6')"
   ]
  },
  {
   "cell_type": "code",
   "execution_count": 18,
   "metadata": {},
   "outputs": [],
   "source": [
    "def func(cluster_1):\n",
    "    sequence_list=[]\n",
    "    for i in cluster_1:\n",
    "        sequence_list.append(print_sequence(i))\n",
    "    return sequence_list"
   ]
  },
  {
   "cell_type": "code",
   "execution_count": 19,
   "metadata": {},
   "outputs": [],
   "source": [
    "seq_1=func(cluster_1)\n",
    "seq_2=func(cluster_2)\n",
    "seq_3=func(cluster_3)\n",
    "seq_4=func(cluster_4)"
   ]
  },
  {
   "cell_type": "code",
   "execution_count": 20,
   "metadata": {},
   "outputs": [
    {
     "name": "stdout",
     "output_type": "stream",
     "text": [
      "2238\n"
     ]
    }
   ],
   "source": [
    "L1 = len(seq_1[0])\n",
    "print(L1)"
   ]
  },
  {
   "cell_type": "code",
   "execution_count": 21,
   "metadata": {},
   "outputs": [],
   "source": [
    "count_AT_1=[0 for i in range (L1)]\n",
    "count_GC_1=[0 for i in range (L1)]"
   ]
  },
  {
   "cell_type": "code",
   "execution_count": 22,
   "metadata": {},
   "outputs": [
    {
     "name": "stdout",
     "output_type": "stream",
     "text": [
      "2238\n"
     ]
    }
   ],
   "source": [
    "L2 = len(seq_2[0])\n",
    "print(L2)"
   ]
  },
  {
   "cell_type": "code",
   "execution_count": 23,
   "metadata": {},
   "outputs": [],
   "source": [
    "count_AT_2=[0 for i in range (L2)]\n",
    "count_GC_2=[0 for i in range (L2)]"
   ]
  },
  {
   "cell_type": "code",
   "execution_count": 24,
   "metadata": {},
   "outputs": [
    {
     "name": "stdout",
     "output_type": "stream",
     "text": [
      "2238\n"
     ]
    }
   ],
   "source": [
    "L3 = len(seq_3[0])\n",
    "print(L3)"
   ]
  },
  {
   "cell_type": "code",
   "execution_count": 25,
   "metadata": {},
   "outputs": [],
   "source": [
    "count_AT_3=[0 for i in range (L3)]\n",
    "count_GC_3=[0 for i in range (L3)]"
   ]
  },
  {
   "cell_type": "code",
   "execution_count": 26,
   "metadata": {},
   "outputs": [
    {
     "name": "stdout",
     "output_type": "stream",
     "text": [
      "2238\n"
     ]
    }
   ],
   "source": [
    "L4 = len(seq_4[0])\n",
    "print(L4)"
   ]
  },
  {
   "cell_type": "code",
   "execution_count": 27,
   "metadata": {},
   "outputs": [],
   "source": [
    "count_AT_4=[0 for i in range (L4)]\n",
    "count_GC_4=[0 for i in range (L4)]"
   ]
  },
  {
   "cell_type": "code",
   "execution_count": 28,
   "metadata": {},
   "outputs": [],
   "source": [
    "for i in seq_1:\n",
    "    for j in (range(len(i))):\n",
    "        if i[j]=='A' or i[j]=='T':\n",
    "            count_AT_1[j]=count_AT_1[j]+1\n",
    "        elif i[j]=='G' or i[j]=='C':\n",
    "            count_GC_1[j]=count_GC_1[j]+1\n",
    "        else:\n",
    "            continue"
   ]
  },
  {
   "cell_type": "code",
   "execution_count": 29,
   "metadata": {},
   "outputs": [
    {
     "name": "stdout",
     "output_type": "stream",
     "text": [
      "[4, 4, 0, 0, 0, 4, 0, 0, 0, 0, 4, 4, 0, 0, 4, 4, 4, 4, 0, 4, 4, 0, 0, 4, 0, 4, 4, 4, 0, 0, 0, 4, 0, 0, 4, 0, 0, 4, 0, 4, 4, 0, 0, 4, 0, 4, 0, 4, 0, 4, 0, 0, 0, 0, 4, 4, 4, 0, 0, 0, 0, 4, 0, 4, 0, 0, 4, 0, 0, 0, 4, 0, 4, 4, 0, 4, 4, 4, 0, 0, 4, 0, 0, 4, 0, 0, 0, 0, 0, 0, 4, 4, 4, 0, 0, 0, 4, 4, 4, 0, 0, 0, 4, 4, 0, 0, 4, 0, 0, 4, 4, 4, 4, 0, 0, 4, 0, 0, 4, 0, 0, 4, 0, 0, 0, 0, 0, 0, 0, 0, 0, 4, 0, 4, 0, 0, 4, 0, 0, 4, 4, 0, 0, 4, 0, 0, 0, 4, 4, 0, 4, 4, 0, 4, 4, 0, 0, 4, 0, 1, 0, 4, 0, 0, 0, 4, 4, 0, 4, 4, 0, 0, 0, 4, 0, 4, 0, 0, 4, 0, 4, 4, 0, 0, 0, 4, 0, 4, 0, 0, 0, 0, 0, 4, 0, 4, 4, 0, 0, 4, 0, 0, 0, 4, 0, 4, 0, 0, 0, 0, 0, 0, 0, 0, 0, 0, 0, 4, 0, 0, 4, 0, 0, 4, 0, 0, 4, 0, 4, 4, 0, 0, 0, 0, 4, 4, 0, 0, 4, 0, 4, 4, 0, 0, 4, 0, 0, 4, 0, 0, 4, 0, 0, 4, 0, 0, 0, 0, 0, 4, 0, 4, 4, 0, 0, 0, 0, 4, 4, 0, 0, 4, 0, 4, 4, 0, 4, 4, 0, 4, 4, 0, 0, 4, 0, 0, 0, 0, 0, 4, 0, 0, 0, 1, 0, 4, 0, 4, 4, 4, 0, 4, 0, 0, 4, 0, 0, 0, 4, 0, 4, 4, 0, 4, 4, 0, 4, 4, 0, 4, 4, 4, 0, 0, 4, 0, 4, 4, 4, 4, 0, 0, 0, 0, 0, 0, 4, 4, 0, 0, 4, 0, 0, 0, 0, 0, 0, 4, 0, 0, 4, 0, 4, 0, 4, 4, 0, 0, 4, 0, 0, 0, 0, 4, 4, 0, 4, 4, 0, 0, 0, 0, 0, 4, 4, 0, 4, 0, 0, 4, 4, 0, 0, 4, 0, 4, 0, 0, 0, 4, 0, 4, 0, 0, 4, 4, 0, 4, 0, 0, 4, 4, 0, 1, 0, 0, 0, 4, 4, 4, 0, 4, 0, 0, 0, 0, 4, 1, 0, 3, 0, 0, 4, 4, 4, 0, 4, 4, 0, 4, 0, 4, 0, 0, 0, 4, 4, 4, 0, 4, 4, 0, 0, 0, 0, 0, 0, 0, 0, 0, 0, 0, 0, 0, 0, 0, 4, 0, 0, 0, 0, 0, 0, 4, 0, 4, 0, 0, 4, 0, 0, 4, 0, 0, 0, 0, 0, 4, 4, 0, 0, 0, 0, 4, 4, 0, 4, 4, 4, 0, 0, 0, 0, 4, 0, 0, 4, 0, 0, 0, 0, 0, 0, 4, 4, 4, 4, 4, 4, 0, 4, 4, 0, 0, 4, 0, 4, 4, 0, 4, 4, 4, 0, 0, 0, 0, 4, 0, 4, 0, 4, 0, 0, 0, 0, 4, 0, 4, 0, 4, 0, 4, 0, 4, 0, 4, 0, 4, 0, 0, 0, 0, 0, 4, 0, 0, 0, 0, 0, 4, 4, 0, 0, 4, 0, 4, 0, 0, 0, 4, 0, 4, 4, 0, 0, 4, 0, 0, 0, 0, 0, 0, 0, 0, 0, 0, 0, 0, 4, 0, 4, 0, 0, 4, 0, 4, 0, 0, 0, 4, 4, 0, 4, 0, 0, 4, 4, 0, 4, 4, 4, 0, 0, 0, 4, 0, 0, 4, 0, 0, 0, 0, 0, 4, 0, 0, 0, 0, 0, 4, 0, 0, 4, 4, 4, 0, 0, 0, 4, 0, 4, 0, 4, 4, 4, 4, 4, 0, 0, 4, 4, 0, 0, 0, 0, 0, 0, 0, 4, 0, 0, 0, 4, 0, 4, 0, 0, 0, 4, 4, 4, 4, 0, 0, 0, 4, 0, 0, 0, 0, 4, 4, 4, 4, 4, 0, 0, 0, 4, 4, 4, 0, 0, 0, 4, 4, 4, 0, 0, 4, 0, 4, 4, 0, 0, 0, 4, 0, 0, 0, 0, 0, 4, 0, 4, 0, 4, 0, 4, 0, 4, 4, 0, 4, 0, 0, 4, 0, 0, 4, 0, 0, 4, 0, 0, 0, 0, 0, 4, 0, 0, 4, 0, 0, 0, 0, 0, 0, 4, 0, 0, 0, 0, 4, 0, 0, 4, 4, 0, 4, 4, 0, 4, 4, 0, 0, 4, 0, 0, 4, 0, 4, 4, 0, 4, 4, 0, 0, 4, 0, 4, 4, 4, 4, 0, 4, 4, 0, 4, 0, 4, 0, 4, 0, 0, 0, 0, 0, 0, 0, 0, 0, 0, 0, 0, 0, 4, 4, 0, 0, 4, 4, 0, 0, 4, 0, 4, 4, 0, 0, 4, 0, 4, 4, 0, 4, 4, 0, 1, 0, 0, 4, 4, 0, 4, 0, 0, 4, 0, 0, 0, 0, 0, 4, 0, 0, 0, 0, 0, 4, 4, 4, 4, 4, 4, 0, 4, 0, 4, 4, 0, 4, 4, 0, 4, 0, 4, 4, 4, 0, 0, 4, 0, 4, 0, 0, 0, 4, 0, 4, 4, 0, 4, 0, 4, 0, 0, 4, 0, 0, 4, 0, 4, 0, 4, 0, 0, 0, 4, 0, 0, 0, 4, 0, 4, 0, 4, 4, 0, 4, 4, 0, 4, 4, 0, 4, 4, 0, 4, 0, 0, 0, 0, 4, 4, 4, 0, 0, 0, 0, 0, 0, 0, 4, 0, 4, 4, 4, 0, 0, 4, 0, 0, 0, 0, 4, 4, 0, 4, 4, 0, 4, 4, 0, 4, 4, 0, 4, 4, 0, 4, 4, 0, 0, 4, 0, 0, 4, 0, 4, 4, 0, 0, 4, 0, 0, 4, 0, 4, 0, 0, 4, 0, 0, 4, 4, 0, 0, 4, 0, 0, 0, 0, 0, 4, 4, 4, 0, 0, 4, 0, 0, 4, 4, 0, 0, 0, 4, 4, 4, 4, 4, 4, 0, 0, 4, 4, 4, 0, 0, 4, 0, 0, 4, 0, 0, 4, 4, 4, 0, 4, 0, 0, 4, 0, 4, 4, 0, 4, 0, 0, 0, 4, 0, 4, 0, 0, 0, 4, 0, 4, 4, 0, 0, 4, 4, 0, 4, 0, 0, 0, 0, 4, 4, 0, 0, 4, 0, 0, 4, 0, 0, 0, 0, 4, 0, 4, 0, 0, 0, 0, 4, 0, 0, 4, 0, 0, 0, 0, 4, 0, 0, 0, 4, 0, 0, 0, 4, 0, 0, 0, 4, 4, 0, 0, 0, 4, 0, 0, 0, 0, 4, 0, 0, 4, 0, 4, 4, 0, 4, 4, 0, 4, 4, 4, 0, 0, 4, 0, 4, 0, 4, 4, 0, 0, 0, 4, 4, 4, 4, 0, 4, 0, 4, 0, 4, 0, 4, 4, 4, 4, 0, 4, 4, 0, 0, 0, 0, 4, 0, 4, 0, 4, 0, 4, 0, 4, 1, 4, 0, 0, 0, 4, 0, 0, 4, 4, 0, 0, 4, 0, 0, 4, 4, 0, 4, 3, 0, 4, 0, 0, 0, 4, 0, 0, 4, 0, 4, 4, 0, 4, 4, 4, 0, 0, 4, 4, 0, 4, 0, 4, 0, 4, 4, 0, 0, 4, 0, 4, 0, 4, 4, 0, 0, 0, 0, 0, 4, 4, 4, 4, 4, 0, 4, 4, 4, 0, 4, 4, 4, 4, 0, 4, 0, 0, 4, 4, 0, 4, 0, 0, 4, 4, 4, 0, 4, 0, 0, 4, 4, 0, 4, 0, 0, 0, 4, 4, 4, 0, 0, 4, 0, 4, 0, 0, 4, 0, 0, 4, 4, 4, 0, 1, 0, 0, 4, 0, 4, 0, 0, 0, 4, 0, 4, 0, 0, 0, 4, 1, 0, 4, 0, 0, 0, 0, 0, 4, 0, 4, 4, 0, 4, 4, 4, 0, 0, 0, 0, 4, 0, 4, 4, 0, 0, 4, 0, 0, 4, 0, 4, 4, 0, 0, 4, 0, 4, 4, 0, 4, 4, 0, 0, 4, 0, 0, 0, 0, 0, 0, 0, 4, 0, 0, 0, 0, 0, 0, 0, 0, 4, 0, 4, 0, 0, 4, 0, 4, 4, 0, 0, 0, 0, 0, 4, 0, 0, 4, 0, 4, 4, 0, 0, 0, 0, 0, 0, 0, 0, 0, 0, 0, 0, 4, 0, 0, 4, 0, 0, 4, 0, 4, 4, 0, 0, 4, 4, 0, 4, 0, 0, 0, 4, 0, 0, 0, 0, 0, 0, 4, 4, 0, 4, 0, 0, 3, 4, 0, 0, 0, 0, 0, 4, 0, 0, 4, 4, 4, 0, 4, 4, 4, 0, 4, 4, 0, 4, 0, 0, 0, 4, 0, 0, 0, 0, 0, 0, 4, 0, 0, 0, 4, 0, 4, 4, 4, 4, 0, 0, 0, 0, 4, 0, 0, 4, 0, 4, 0, 4, 0, 4, 0, 4, 0, 4, 4, 4, 4, 4, 4, 0, 4, 4, 4, 0, 4, 0, 4, 0, 0, 4, 4, 0, 4, 4, 0, 4, 4, 0, 4, 0, 4, 4, 4, 0, 4, 4, 4, 0, 0, 0, 4, 0, 0, 4, 0, 0, 0, 0, 0, 0, 0, 0, 4, 0, 4, 4, 4, 4, 4, 4, 0, 0, 4, 4, 0, 4, 0, 4, 4, 4, 0, 0, 4, 4, 0, 4, 4, 4, 4, 4, 0, 4, 4, 4, 4, 4, 0, 0, 4, 4, 0, 0, 0, 0, 0, 0, 0, 0, 4, 4, 0, 0, 0, 4, 4, 0, 0, 0, 0, 4, 0, 0, 4, 4, 0, 4, 4, 0, 0, 4, 0, 0, 4, 0, 0, 4, 0, 0, 3, 0, 0, 4, 0, 4, 4, 0, 3, 4, 4, 0, 0, 0, 4, 4, 0, 4, 4, 0, 0, 0, 4, 0, 4, 0, 0, 4, 0, 0, 4, 4, 4, 4, 4, 0, 0, 0, 3, 4, 4, 4, 0, 0, 0, 0, 0, 0, 0, 4, 0, 0, 0, 4, 4, 0, 0, 0, 0, 0, 0, 4, 4, 0, 4, 0, 4, 4, 0, 0, 0, 4, 0, 0, 0, 0, 0, 0, 0, 4, 4, 4, 4, 0, 0, 4, 0, 0, 4, 4, 4, 4, 0, 4, 0, 0, 4, 0, 0, 0, 4, 0, 0, 4, 0, 0, 4, 0, 4, 4, 0, 4, 4, 4, 4, 0, 0, 4, 0, 0, 4, 4, 4, 0, 0, 0, 0, 4, 0, 0, 0, 4, 4, 0, 4, 0, 4, 4, 0, 4, 4, 4, 4, 0, 0, 0, 4, 0, 4, 0, 0, 4, 0, 4, 0, 0, 4, 0, 0, 4, 4, 0, 0, 4, 0, 0, 4, 4, 4, 0, 0, 4, 0, 4, 4, 0, 0, 0, 0, 0, 0, 0, 4, 0, 0, 0, 0, 3, 0, 4, 0, 4, 0, 4, 0, 4, 0, 4, 0, 0, 0, 0, 0, 0, 0, 4, 0, 4, 4, 0, 4, 0, 0, 0, 4, 0, 0, 0, 0, 0, 0, 4, 0, 4, 0, 0, 0, 0, 0, 0, 0, 4, 4, 0, 0, 4, 0, 4, 0, 0, 0, 4, 0, 4, 4, 0, 0, 0, 0, 0, 4, 0, 0, 4, 0, 4, 3, 0, 0, 4, 0, 0, 4, 0, 0, 0, 4, 0, 0, 0, 4, 4, 0, 4, 0, 0, 0, 0, 0, 3, 4, 4, 4, 4, 4, 0, 0, 4, 0, 4, 0, 4, 0, 0, 0, 4, 0, 0, 0, 0, 4, 4, 0, 4, 4, 4, 0, 4, 0, 0, 0, 0, 4, 0, 4, 0, 0, 0, 0, 4, 0, 4, 4, 0, 0, 0, 0, 0, 0, 4, 4, 4, 4, 0, 0, 4, 0, 4, 0, 4, 4, 4, 0, 4, 0, 0, 0, 0, 0, 0, 4, 0, 0, 4, 0, 4, 4, 4, 4, 4, 0, 4, 0, 4, 4, 0, 4, 4, 4, 4, 4, 0, 4, 0, 0, 0, 0, 0, 0, 4, 4, 0, 0, 4, 0, 0, 4, 4, 4, 4, 0, 0, 4, 0, 0, 4, 0, 3, 0, 0, 4, 0, 4, 4, 4, 4, 0, 4, 0, 0, 4, 0, 0, 0, 4, 4, 0, 4, 4, 4, 0, 0, 0, 4, 0, 4, 4, 4, 4, 4, 4, 0, 4, 0, 0, 0, 4, 0, 4, 4, 0, 4, 0, 0, 4, 0, 0, 0, 0, 0, 0, 4, 0, 0, 4, 0, 4, 0, 0, 0, 4, 0, 0, 4, 0, 4, 4, 0, 0, 4, 0, 4, 0, 0, 0, 4, 4, 0, 4, 0, 0, 4, 0, 4, 4, 4, 0, 4, 4, 4, 4, 0, 4, 0, 0, 4, 4, 4, 0, 0, 0, 4, 0, 0, 4, 4, 4, 0, 0, 4, 0, 4, 0, 4, 4, 4, 0, 4, 0, 4, 4, 0, 4, 0, 0, 4, 0, 4, 4, 4, 4, 4, 4, 4, 0, 0, 0, 4, 4, 0, 4, 0, 4, 4, 4, 4, 4, 4, 4, 0, 4, 0, 0, 4, 4, 4, 4, 4, 0, 0, 4, 0, 4, 0, 4, 4, 0, 4, 4, 0, 0, 4, 4, 0, 0, 0, 0, 4, 4, 4, 4, 4, 4, 0, 4, 0, 4, 0, 0, 0, 4, 0, 0, 0, 0, 0, 0, 4, 4, 4, 0, 0, 0, 4, 0, 0, 0, 0, 4, 4, 4, 0, 0, 4, 0, 4, 0, 0, 0, 0, 4, 4, 4, 0, 0, 4, 0, 4, 4, 4]\n"
     ]
    }
   ],
   "source": [
    "print(count_AT_1)"
   ]
  },
  {
   "cell_type": "code",
   "execution_count": 30,
   "metadata": {},
   "outputs": [
    {
     "name": "stdout",
     "output_type": "stream",
     "text": [
      "[0, 0, 4, 4, 4, 0, 4, 4, 4, 4, 0, 0, 4, 4, 0, 0, 0, 0, 4, 0, 0, 4, 4, 0, 4, 0, 0, 0, 4, 4, 4, 0, 4, 4, 0, 4, 4, 0, 4, 0, 0, 4, 4, 0, 4, 0, 4, 0, 4, 0, 4, 4, 4, 4, 0, 0, 0, 4, 4, 4, 4, 0, 4, 0, 4, 4, 0, 4, 4, 4, 0, 4, 0, 0, 4, 0, 0, 0, 4, 4, 0, 4, 4, 0, 4, 4, 4, 4, 4, 4, 0, 0, 0, 4, 4, 4, 0, 0, 0, 4, 4, 4, 0, 0, 4, 4, 0, 4, 4, 0, 0, 0, 0, 4, 4, 0, 4, 4, 0, 4, 4, 0, 4, 4, 4, 4, 4, 4, 4, 4, 4, 0, 4, 0, 4, 4, 0, 4, 4, 0, 0, 4, 4, 0, 4, 4, 4, 0, 0, 4, 0, 0, 4, 0, 0, 4, 4, 0, 4, 3, 4, 0, 4, 4, 4, 0, 0, 4, 0, 0, 4, 4, 4, 0, 4, 0, 4, 4, 0, 4, 0, 0, 4, 4, 4, 0, 4, 0, 4, 4, 4, 4, 4, 0, 4, 0, 0, 4, 4, 0, 4, 4, 4, 0, 4, 0, 4, 4, 4, 4, 4, 4, 4, 4, 4, 4, 4, 0, 4, 4, 0, 4, 4, 0, 4, 4, 0, 4, 0, 0, 4, 4, 4, 4, 0, 0, 4, 4, 0, 4, 0, 0, 4, 4, 0, 4, 4, 0, 4, 4, 0, 4, 4, 0, 4, 4, 4, 4, 4, 0, 4, 0, 0, 4, 4, 4, 4, 0, 0, 4, 4, 0, 4, 0, 0, 4, 0, 0, 4, 0, 0, 4, 4, 0, 4, 4, 4, 4, 4, 0, 4, 4, 4, 3, 4, 0, 4, 0, 0, 0, 4, 0, 4, 4, 0, 4, 4, 4, 0, 4, 0, 0, 4, 0, 0, 4, 0, 0, 4, 0, 0, 0, 4, 4, 0, 4, 0, 0, 0, 0, 4, 4, 4, 4, 4, 4, 0, 0, 4, 4, 0, 4, 4, 4, 4, 4, 4, 0, 4, 4, 0, 4, 0, 4, 0, 0, 4, 4, 0, 4, 4, 4, 4, 0, 0, 4, 0, 0, 4, 4, 4, 4, 4, 0, 0, 4, 0, 4, 4, 0, 0, 4, 4, 0, 4, 0, 4, 4, 4, 0, 4, 0, 4, 4, 0, 0, 4, 0, 4, 4, 0, 0, 4, 3, 4, 4, 4, 0, 0, 0, 4, 0, 4, 4, 4, 4, 0, 3, 4, 1, 4, 4, 0, 0, 0, 4, 0, 0, 4, 0, 4, 0, 4, 4, 4, 0, 0, 0, 4, 0, 0, 0, 0, 0, 0, 0, 0, 0, 0, 0, 0, 0, 0, 0, 0, 0, 0, 4, 4, 4, 4, 4, 4, 0, 4, 0, 4, 4, 0, 4, 4, 0, 4, 4, 4, 4, 4, 0, 0, 4, 4, 4, 4, 0, 0, 4, 0, 0, 0, 4, 4, 4, 4, 0, 4, 4, 0, 4, 4, 4, 4, 4, 4, 0, 0, 0, 0, 0, 0, 4, 0, 0, 4, 4, 0, 4, 0, 0, 4, 0, 0, 0, 4, 4, 4, 4, 0, 4, 0, 4, 0, 4, 4, 4, 4, 0, 4, 0, 4, 0, 4, 0, 4, 0, 4, 0, 4, 0, 4, 4, 4, 4, 4, 0, 4, 4, 4, 4, 4, 0, 0, 4, 4, 0, 4, 0, 4, 4, 4, 0, 4, 0, 0, 4, 4, 0, 4, 4, 4, 4, 4, 4, 4, 4, 4, 4, 4, 4, 0, 4, 0, 4, 4, 0, 4, 0, 4, 4, 4, 0, 0, 4, 0, 4, 4, 0, 0, 4, 0, 0, 0, 4, 4, 4, 0, 4, 4, 0, 4, 4, 4, 4, 4, 0, 4, 4, 4, 4, 4, 0, 4, 4, 0, 0, 0, 4, 4, 4, 0, 4, 0, 4, 0, 0, 0, 0, 0, 4, 4, 0, 0, 4, 4, 4, 4, 4, 4, 4, 0, 4, 4, 4, 0, 4, 0, 4, 4, 4, 0, 0, 0, 0, 4, 4, 4, 0, 4, 4, 4, 4, 0, 0, 0, 0, 0, 4, 4, 4, 0, 0, 0, 4, 4, 4, 0, 0, 0, 4, 4, 0, 4, 0, 0, 4, 4, 4, 0, 4, 4, 4, 4, 4, 0, 4, 0, 4, 0, 4, 0, 4, 0, 0, 4, 0, 4, 4, 0, 4, 4, 0, 4, 4, 0, 4, 4, 4, 4, 4, 0, 4, 4, 0, 4, 4, 4, 4, 4, 4, 0, 4, 4, 4, 4, 0, 4, 4, 0, 0, 4, 0, 0, 4, 0, 0, 4, 4, 0, 4, 4, 0, 4, 0, 0, 4, 0, 0, 4, 4, 0, 4, 0, 0, 0, 0, 4, 0, 0, 4, 0, 4, 0, 4, 0, 0, 0, 0, 0, 0, 0, 4, 4, 4, 4, 4, 4, 4, 0, 0, 4, 4, 0, 0, 4, 4, 0, 4, 0, 0, 4, 4, 0, 4, 0, 0, 4, 0, 0, 4, 3, 4, 4, 0, 0, 4, 0, 4, 4, 0, 4, 4, 4, 4, 4, 0, 4, 4, 4, 4, 4, 0, 0, 0, 0, 0, 0, 4, 0, 4, 0, 0, 4, 0, 0, 4, 0, 4, 0, 0, 0, 4, 4, 0, 4, 0, 4, 4, 4, 0, 4, 0, 0, 4, 0, 4, 0, 4, 4, 0, 4, 4, 0, 4, 0, 4, 0, 4, 4, 4, 0, 4, 4, 4, 0, 4, 0, 4, 0, 0, 4, 0, 0, 4, 0, 0, 4, 0, 0, 4, 0, 4, 4, 4, 4, 0, 0, 0, 4, 4, 4, 4, 4, 4, 4, 0, 4, 0, 0, 0, 4, 4, 0, 4, 4, 4, 4, 0, 0, 4, 0, 0, 4, 0, 0, 4, 0, 0, 4, 0, 0, 4, 0, 0, 4, 4, 0, 4, 4, 0, 4, 0, 0, 4, 4, 0, 4, 4, 0, 4, 0, 4, 4, 0, 4, 4, 0, 0, 4, 4, 0, 4, 4, 4, 4, 4, 0, 0, 0, 4, 4, 0, 4, 4, 0, 0, 4, 4, 4, 0, 0, 0, 0, 0, 0, 4, 4, 0, 0, 0, 4, 4, 0, 4, 4, 0, 4, 4, 0, 0, 0, 4, 0, 4, 4, 0, 4, 0, 0, 4, 0, 4, 4, 4, 0, 4, 0, 4, 4, 4, 0, 4, 0, 0, 4, 4, 0, 0, 4, 0, 4, 4, 4, 4, 0, 0, 4, 4, 0, 4, 4, 0, 4, 4, 4, 4, 0, 4, 0, 4, 4, 4, 4, 0, 4, 4, 0, 4, 4, 4, 4, 0, 4, 4, 4, 0, 4, 4, 4, 0, 4, 4, 4, 0, 0, 4, 4, 4, 0, 4, 4, 4, 4, 0, 4, 4, 0, 4, 0, 0, 4, 0, 0, 4, 0, 0, 0, 4, 4, 0, 4, 0, 4, 0, 0, 4, 4, 4, 0, 0, 0, 0, 4, 0, 4, 0, 4, 0, 4, 0, 0, 0, 0, 4, 0, 0, 4, 4, 4, 4, 0, 4, 0, 4, 0, 4, 0, 4, 0, 3, 0, 4, 4, 4, 0, 4, 4, 0, 0, 4, 4, 0, 4, 4, 0, 0, 4, 0, 1, 4, 0, 4, 4, 4, 0, 4, 4, 0, 4, 0, 0, 4, 0, 0, 0, 4, 4, 0, 0, 4, 0, 4, 0, 4, 0, 0, 4, 4, 0, 4, 0, 4, 0, 0, 4, 4, 4, 4, 4, 0, 0, 0, 0, 0, 4, 0, 0, 0, 4, 0, 0, 0, 0, 4, 0, 4, 4, 0, 0, 4, 0, 4, 4, 0, 0, 0, 4, 0, 4, 4, 0, 0, 4, 0, 4, 4, 4, 0, 0, 0, 4, 4, 0, 4, 0, 4, 4, 0, 4, 4, 0, 0, 0, 4, 3, 4, 4, 0, 4, 0, 4, 4, 4, 0, 4, 0, 4, 4, 4, 0, 3, 4, 0, 4, 4, 4, 4, 4, 0, 4, 0, 0, 4, 0, 0, 0, 4, 4, 4, 4, 0, 4, 0, 0, 4, 4, 0, 4, 4, 0, 4, 0, 0, 4, 4, 0, 4, 0, 0, 4, 0, 0, 4, 4, 0, 4, 4, 4, 4, 4, 4, 4, 0, 4, 4, 0, 0, 0, 0, 0, 4, 0, 4, 0, 4, 4, 0, 4, 0, 0, 4, 4, 4, 4, 4, 0, 4, 4, 0, 4, 0, 0, 0, 0, 0, 0, 0, 0, 0, 0, 0, 4, 4, 4, 0, 4, 4, 0, 4, 4, 0, 4, 0, 0, 4, 4, 0, 0, 4, 0, 4, 4, 4, 0, 4, 4, 4, 4, 4, 4, 0, 0, 4, 0, 4, 4, 1, 0, 4, 4, 4, 4, 4, 0, 4, 4, 0, 0, 0, 4, 0, 0, 0, 4, 0, 0, 4, 0, 4, 4, 4, 0, 4, 4, 4, 4, 4, 4, 0, 4, 4, 4, 0, 4, 0, 0, 0, 0, 4, 4, 4, 4, 0, 4, 4, 0, 4, 0, 4, 0, 4, 0, 4, 0, 4, 0, 0, 0, 0, 0, 0, 4, 0, 0, 0, 4, 0, 4, 0, 4, 4, 0, 0, 4, 0, 0, 4, 0, 0, 4, 0, 4, 0, 0, 0, 4, 0, 0, 0, 4, 4, 4, 0, 4, 4, 0, 4, 4, 4, 4, 4, 4, 4, 4, 0, 4, 0, 0, 0, 0, 0, 0, 4, 4, 0, 0, 4, 0, 4, 0, 0, 0, 4, 4, 0, 0, 4, 0, 0, 0, 0, 0, 4, 0, 0, 0, 0, 0, 4, 4, 0, 0, 4, 4, 4, 4, 4, 4, 4, 4, 0, 0, 4, 4, 4, 0, 0, 4, 4, 4, 4, 0, 4, 4, 0, 0, 4, 0, 0, 4, 4, 0, 4, 4, 0, 4, 4, 0, 4, 4, 1, 4, 4, 0, 4, 0, 0, 4, 1, 0, 0, 4, 4, 4, 0, 0, 4, 0, 0, 4, 4, 4, 0, 4, 0, 4, 4, 0, 4, 4, 0, 0, 0, 0, 0, 4, 4, 4, 1, 0, 0, 0, 4, 4, 4, 4, 4, 4, 4, 0, 4, 4, 4, 0, 0, 0, 0, 0, 0, 0, 4, 0, 0, 4, 0, 4, 0, 0, 4, 4, 4, 0, 4, 4, 0, 0, 0, 0, 0, 0, 0, 0, 0, 4, 4, 0, 4, 4, 0, 0, 0, 0, 4, 0, 4, 4, 0, 4, 4, 4, 0, 4, 4, 0, 4, 4, 0, 4, 0, 0, 4, 0, 0, 0, 0, 4, 4, 0, 4, 4, 0, 0, 0, 4, 4, 4, 4, 0, 4, 4, 4, 0, 0, 4, 0, 4, 0, 0, 4, 0, 0, 0, 0, 4, 4, 4, 0, 4, 0, 4, 4, 0, 4, 0, 4, 4, 0, 4, 4, 0, 0, 4, 4, 0, 4, 4, 0, 0, 0, 4, 4, 0, 4, 0, 0, 4, 4, 4, 4, 4, 4, 4, 0, 4, 4, 4, 4, 1, 4, 0, 4, 0, 4, 0, 4, 0, 4, 0, 0, 0, 0, 0, 0, 0, 4, 0, 4, 0, 0, 4, 0, 4, 4, 4, 0, 4, 4, 4, 4, 4, 4, 0, 4, 0, 4, 4, 4, 4, 4, 4, 4, 0, 0, 4, 4, 0, 4, 0, 4, 4, 4, 0, 4, 0, 0, 4, 4, 4, 4, 4, 0, 4, 4, 0, 4, 0, 1, 4, 4, 0, 4, 4, 0, 4, 4, 4, 0, 4, 4, 4, 0, 0, 4, 0, 4, 4, 4, 4, 4, 1, 0, 0, 0, 0, 0, 4, 4, 0, 4, 0, 4, 0, 4, 4, 4, 0, 4, 4, 4, 4, 0, 0, 4, 0, 0, 0, 4, 0, 4, 4, 4, 4, 0, 4, 0, 4, 4, 4, 4, 0, 4, 0, 0, 4, 4, 4, 4, 4, 4, 0, 0, 0, 0, 4, 4, 0, 4, 0, 4, 0, 0, 0, 4, 0, 4, 4, 4, 4, 4, 4, 0, 4, 4, 0, 4, 0, 0, 0, 0, 0, 4, 0, 4, 0, 0, 4, 0, 0, 0, 0, 0, 4, 0, 4, 4, 4, 4, 4, 4, 0, 0, 4, 4, 0, 4, 4, 0, 0, 0, 0, 4, 4, 0, 4, 4, 0, 4, 1, 4, 4, 0, 4, 0, 0, 0, 0, 4, 0, 4, 4, 0, 4, 4, 4, 0, 0, 4, 0, 0, 0, 4, 4, 4, 0, 4, 0, 0, 0, 0, 0, 0, 4, 0, 4, 4, 4, 0, 4, 0, 0, 4, 0, 4, 4, 0, 4, 4, 4, 4, 4, 4, 0, 4, 4, 0, 4, 0, 4, 4, 4, 0, 4, 4, 0, 4, 0, 0, 4, 4, 0, 4, 0, 4, 4, 4, 0, 0, 4, 0, 4, 4, 0, 4, 0, 0, 0, 4, 0, 0, 0, 0, 4, 0, 4, 4, 0, 0, 0, 4, 4, 4, 0, 4, 4, 0, 0, 0, 4, 4, 0, 4, 0, 4, 0, 0, 0, 4, 0, 4, 0, 0, 4, 0, 4, 4, 0, 4, 0, 0, 0, 0, 0, 0, 0, 4, 4, 4, 0, 0, 4, 0, 4, 0, 0, 0, 0, 0, 0, 0, 4, 0, 4, 4, 0, 0, 0, 0, 0, 4, 4, 0, 4, 0, 4, 0, 0, 4, 0, 0, 4, 4, 0, 0, 4, 4, 4, 4, 0, 0, 0, 0, 0, 0, 4, 0, 4, 0, 4, 4, 4, 0, 4, 4, 4, 4, 4, 4, 0, 0, 0, 4, 4, 4, 0, 4, 4, 4, 4, 0, 0, 0, 4, 4, 0, 4, 0, 4, 4, 4, 4, 0, 0, 0, 4, 4, 0, 4, 0, 0, 0]\n"
     ]
    }
   ],
   "source": [
    "print(count_GC_1)"
   ]
  },
  {
   "cell_type": "code",
   "execution_count": 31,
   "metadata": {},
   "outputs": [],
   "source": [
    "T1 = [x+y+1 for x,y in zip(count_AT_1, count_GC_1)]"
   ]
  },
  {
   "cell_type": "code",
   "execution_count": 32,
   "metadata": {},
   "outputs": [],
   "source": [
    "percentage_AT_1 = [float(x/y) for x,y in zip(count_AT_1,T1)]\n",
    "percentage_GC_1 = [1-float(x/y) for x,y in zip(count_GC_1,T1)]"
   ]
  },
  {
   "cell_type": "code",
   "execution_count": 33,
   "metadata": {},
   "outputs": [],
   "source": [
    "for i in seq_2:\n",
    "    for j in (range(len(i))):\n",
    "        if i[j]=='A' or i[j]=='T':\n",
    "            count_AT_2[j]=count_AT_2[j]+1\n",
    "        elif i[j]=='G' or i[j]=='C':\n",
    "            count_GC_2[j]=count_GC_2[j]+1\n",
    "        else:\n",
    "            continue"
   ]
  },
  {
   "cell_type": "code",
   "execution_count": 34,
   "metadata": {},
   "outputs": [],
   "source": [
    "T2 = [x+y+1 for x,y in zip(count_AT_2, count_GC_2)]\n",
    "percentage_AT_2 = [float(x/y) for x,y in zip(count_AT_2,T2)]\n",
    "percentage_GC_2 = [1-float(x/y) for x,y in zip(count_GC_2,T2)]"
   ]
  },
  {
   "cell_type": "code",
   "execution_count": 35,
   "metadata": {},
   "outputs": [],
   "source": [
    "for i in seq_3:\n",
    "    for j in (range(len(i))):\n",
    "        if i[j]=='A' or i[j]=='T':\n",
    "            count_AT_3[j]=count_AT_3[j]+1\n",
    "        elif i[j]=='G' or i[j]=='C':\n",
    "            count_GC_3[j]=count_GC_3[j]+1\n",
    "        else:\n",
    "            continue"
   ]
  },
  {
   "cell_type": "code",
   "execution_count": 36,
   "metadata": {},
   "outputs": [],
   "source": [
    "T3 = [x+y+1 for x,y in zip(count_AT_3, count_GC_3)]\n",
    "percentage_AT_3 = [float(x/y) for x,y in zip(count_AT_3,T3)]\n",
    "percentage_GC_3 = [1-float(x/y) for x,y in zip(count_GC_3,T3)]"
   ]
  },
  {
   "cell_type": "code",
   "execution_count": 37,
   "metadata": {},
   "outputs": [],
   "source": [
    "for i in seq_4:\n",
    "    for j in (range(len(i))):\n",
    "        if i[j]=='A' or i[j]=='T':\n",
    "            count_AT_4[j]=count_AT_4[j]+1\n",
    "        elif i[j]=='G' or i[j]=='C':\n",
    "            count_GC_4[j]=count_GC_4[j]+1\n",
    "        else:\n",
    "            continue"
   ]
  },
  {
   "cell_type": "code",
   "execution_count": 38,
   "metadata": {},
   "outputs": [],
   "source": [
    "T4 = [x+y+1 for x,y in zip(count_AT_4, count_GC_4)]\n",
    "percentage_AT_4 = [float(x/y) for x,y in zip(count_AT_4,T4)]\n",
    "percentage_GC_4 = [1-float(x/y) for x,y in zip(count_GC_4,T4)]"
   ]
  },
  {
   "cell_type": "code",
   "execution_count": 39,
   "metadata": {},
   "outputs": [],
   "source": [
    "%matplotlib inline\n",
    "import matplotlib.pyplot as plt"
   ]
  },
  {
   "cell_type": "code",
   "execution_count": 41,
   "metadata": {},
   "outputs": [
    {
     "ename": "NameError",
     "evalue": "name 'x' is not defined",
     "output_type": "error",
     "traceback": [
      "\u001b[0;31m---------------------------------------------------------------------------\u001b[0m",
      "\u001b[0;31mNameError\u001b[0m                                 Traceback (most recent call last)",
      "\u001b[0;32m<ipython-input-41-d185427c49bb>\u001b[0m in \u001b[0;36m<module>\u001b[0;34m()\u001b[0m\n\u001b[0;32m----> 1\u001b[0;31m \u001b[0mplt\u001b[0m\u001b[0;34m.\u001b[0m\u001b[0mbar\u001b[0m\u001b[0;34m(\u001b[0m\u001b[0mx\u001b[0m\u001b[0;34m,\u001b[0m \u001b[0mpercentage_AT_1\u001b[0m\u001b[0;34m,\u001b[0m \u001b[0mpercentage_GC_1\u001b[0m\u001b[0;34m)\u001b[0m\u001b[0;34m\u001b[0m\u001b[0m\n\u001b[0m\u001b[1;32m      2\u001b[0m \u001b[0mplt\u001b[0m\u001b[0;34m.\u001b[0m\u001b[0mxlabel\u001b[0m\u001b[0;34m(\u001b[0m\u001b[0;34m'Position in Sequence'\u001b[0m\u001b[0;34m)\u001b[0m\u001b[0;34m\u001b[0m\u001b[0m\n\u001b[1;32m      3\u001b[0m \u001b[0mplt\u001b[0m\u001b[0;34m.\u001b[0m\u001b[0mylablel\u001b[0m\u001b[0;34m(\u001b[0m\u001b[0;34m'%AT or %GC'\u001b[0m\u001b[0;34m)\u001b[0m\u001b[0;34m\u001b[0m\u001b[0m\n\u001b[1;32m      4\u001b[0m \u001b[0mplt\u001b[0m\u001b[0;34m.\u001b[0m\u001b[0mshow\u001b[0m\u001b[0;34m(\u001b[0m\u001b[0;34m)\u001b[0m\u001b[0;34m\u001b[0m\u001b[0m\n",
      "\u001b[0;31mNameError\u001b[0m: name 'x' is not defined"
     ]
    }
   ],
   "source": [
    "plt.bar(x, percentage_AT_1, percentage_GC_1)\n",
    "plt.xlabel('Position in Sequence')\n",
    "plt.ylablel('%AT or %GC')\n",
    "plt.show()"
   ]
  },
  {
   "cell_type": "code",
   "execution_count": null,
   "metadata": {},
   "outputs": [],
   "source": []
  }
 ],
 "metadata": {
  "kernelspec": {
   "display_name": "Python 3",
   "language": "python",
   "name": "python3"
  },
  "language_info": {
   "codemirror_mode": {
    "name": "ipython",
    "version": 3
   },
   "file_extension": ".py",
   "mimetype": "text/x-python",
   "name": "python",
   "nbconvert_exporter": "python",
   "pygments_lexer": "ipython3",
   "version": "3.5.2"
  }
 },
 "nbformat": 4,
 "nbformat_minor": 2
}
